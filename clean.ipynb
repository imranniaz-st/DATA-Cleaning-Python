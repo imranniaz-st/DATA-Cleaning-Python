{
 "cells": [
  {
   "cell_type": "raw",
   "id": "f9c2dfb7-0ee7-4dfd-b53b-67e2f1a708ca",
   "metadata": {},
   "source": [
    "#Code For True Peapols "
   ]
  },
  {
   "cell_type": "code",
   "execution_count": 29,
   "id": "bb141bda-67de-44b6-92c1-bc90795ab4c6",
   "metadata": {},
   "outputs": [
    {
     "name": "stdout",
     "output_type": "stream",
     "text": [
      "concatenated_data.xlsx\n",
      "google_se rch_results (1).xlsx\n",
      "google_search_results (1).xlsx\n",
      "google_search_results (2).xlsx\n",
      "google_search_results (3).xlsx\n",
      "google_search_results.xlsx\n",
      "la.xlsx\n",
      "new.xlsx\n",
      "newaaa.xlsx\n",
      "t1.xlsx\n",
      "True.xlsx\n",
      "xkjch'.xlsx\n"
     ]
    }
   ],
   "source": [
    "import glob\n",
    "import os \n",
    "import pandas as pd\n",
    " \n",
    "\n",
    "# Get a list of all .xlsx files in the current directory\n",
    "xlsx_files = glob.glob(\"*.xlsx\")\n",
    "\n",
    "# Display the list of .xlsx files\n",
    "for file in xlsx_files:\n",
    "    print(file)\n"
   ]
  },
  {
   "cell_type": "code",
   "execution_count": 30,
   "id": "b99bf539-ad26-4d69-abb6-7b84ccd23367",
   "metadata": {},
   "outputs": [
    {
     "name": "stdout",
     "output_type": "stream",
     "text": [
      "Data from all .xlsx files has been consolidated into concatenated_data.xlsx.\n"
     ]
    }
   ],
   "source": [
    " \n",
    "\n",
    "# Create an empty DataFrame to store the concatenated data\n",
    "concatenated_data = pd.DataFrame()\n",
    "\n",
    "# Iterate through each Excel file and concatenate its data to the DataFrame\n",
    "for file in xlsx_files:\n",
    "    df = pd.read_excel(file)  # Read the Excel file into a DataFrame\n",
    "    concatenated_data = pd.concat([concatenated_data, df], ignore_index=True)  # Concatenate the data\n",
    "\n",
    "# Write the concatenated data to a new Excel file\n",
    "concatenated_data.to_excel(\"concatenated_data.xlsx\", index=False)\n",
    "\n",
    "print(\"Data from all .xlsx files has been consolidated into concatenated_data.xlsx.\")"
   ]
  },
  {
   "cell_type": "code",
   "execution_count": 19,
   "id": "5b7fa3da-b422-4f4e-884d-2dce737a0661",
   "metadata": {},
   "outputs": [
    {
     "name": "stdout",
     "output_type": "stream",
     "text": [
      "CSV files have been merged into merged_data.csv\n"
     ]
    }
   ],
   "source": [
    "\n",
    "# Get a list of all CSV files in the current directory\n",
    "csv_files = glob.glob(\"*.csv\")\n",
    "\n",
    "# Create an empty list to store DataFrames\n",
    "dfs = []\n",
    "\n",
    "# Iterate through each CSV file and read it into a DataFrame\n",
    "for file in csv_files:\n",
    "    df = pd.read_csv(file)\n",
    "    dfs.append(df)\n",
    "\n",
    "# Concatenate all DataFrames into one\n",
    "merged_df = pd.concat(dfs, ignore_index=True)\n",
    "\n",
    "# Write the merged DataFrame to a new CSV file\n",
    "merged_df.to_csv(\"merged_data.csv\", index=False)\n",
    "\n",
    "print(\"CSV files have been merged into merged_data.csv\")\n"
   ]
  },
  {
   "cell_type": "code",
   "execution_count": 21,
   "id": "6a9f3c80-2f47-48e4-b7cb-985a859bc5b0",
   "metadata": {},
   "outputs": [
    {
     "name": "stdout",
     "output_type": "stream",
     "text": [
      "       nwsli          site_name  longitude  latitude        date    time  \\\n",
      "0      OSGK1         OSAGE CITY   -95.8333   38.6333  20240407.0   940.0   \n",
      "1      WHLM4  Whitmore Lake 1NW   -83.7831   42.4356  20240407.0  1300.0   \n",
      "2      SMLI2        HAMLETSBURG   -88.4333   37.1667  20240407.0  1100.0   \n",
      "3      CWYN1      CALLAWAY 8WSW  -100.0750   41.2522  20240407.0  1200.0   \n",
      "4      RDWP1            RIDGWAY   -78.7500   41.4167  20240407.0  1100.0   \n",
      "...      ...                ...        ...       ...         ...     ...   \n",
      "13206    NaN                NaN        NaN       NaN         NaN     NaN   \n",
      "13207    NaN                NaN        NaN       NaN         NaN     NaN   \n",
      "13208    NaN                NaN        NaN       NaN         NaN     NaN   \n",
      "13209    NaN                NaN        NaN       NaN         NaN     NaN   \n",
      "13210    NaN                NaN        NaN       NaN         NaN     NaN   \n",
      "\n",
      "       high_f  low_f  prec_in  snow_in  ...  price  choice  DeliveredDateTime  \\\n",
      "0        75.0   45.0     0.00      0.0  ...    NaN     NaN                NaN   \n",
      "1        58.0   27.0     0.00    -99.0  ...    NaN     NaN                NaN   \n",
      "2        63.0   32.0     0.00    -99.0  ...    NaN     NaN                NaN   \n",
      "3        66.0   41.0     0.46      0.0  ...    NaN     NaN                NaN   \n",
      "4        52.0   26.0     0.00      0.0  ...    NaN     NaN                NaN   \n",
      "...       ...    ...      ...      ...  ...    ...     ...                ...   \n",
      "13206     NaN    NaN      NaN      NaN  ...    NaN     NaN                NaN   \n",
      "13207     NaN    NaN      NaN      NaN  ...    NaN     NaN                NaN   \n",
      "13208     NaN    NaN      NaN      NaN  ...    NaN     NaN                NaN   \n",
      "13209     NaN    NaN      NaN      NaN  ...    NaN     NaN                NaN   \n",
      "13210     NaN    NaN      NaN      NaN  ...    NaN     NaN                NaN   \n",
      "\n",
      "       ModelName col-12 col-12 href col-12 2 col-12 href 2  \\\n",
      "0            NaN    NaN         NaN      NaN           NaN   \n",
      "1            NaN    NaN         NaN      NaN           NaN   \n",
      "2            NaN    NaN         NaN      NaN           NaN   \n",
      "3            NaN    NaN         NaN      NaN           NaN   \n",
      "4            NaN    NaN         NaN      NaN           NaN   \n",
      "...          ...    ...         ...      ...           ...   \n",
      "13206        NaN    NaN         NaN      NaN           NaN   \n",
      "13207        NaN    NaN         NaN      NaN           NaN   \n",
      "13208        NaN    NaN         NaN      NaN           NaN   \n",
      "13209        NaN    NaN         NaN      NaN           NaN   \n",
      "13210        NaN    NaN         NaN      NaN           NaN   \n",
      "\n",
      "      https://www.truepeoplesearch.com/find/person/pl640ulnlnnl8lu4862l  \\\n",
      "0                                                    NaN                  \n",
      "1                                                    NaN                  \n",
      "2                                                    NaN                  \n",
      "3                                                    NaN                  \n",
      "4                                                    NaN                  \n",
      "...                                                  ...                  \n",
      "13206                                                NaN                  \n",
      "13207                                                NaN                  \n",
      "13208                                                NaN                  \n",
      "13209                                                NaN                  \n",
      "13210                                                NaN                  \n",
      "\n",
      "                https://www.truepeoplesearch.com/privacy  \n",
      "0                                                    NaN  \n",
      "1                                                    NaN  \n",
      "2                                                    NaN  \n",
      "3                                                    NaN  \n",
      "4                                                    NaN  \n",
      "...                                                  ...  \n",
      "13206            https://www.truepeoplesearch.com/find/v  \n",
      "13207            https://www.truepeoplesearch.com/find/w  \n",
      "13208            https://www.truepeoplesearch.com/find/y  \n",
      "13209  https://www.truepeoplesearch.com/find/trending...  \n",
      "13210  https://en.wikipedia.org/wiki/Fair_Credit_Repo...  \n",
      "\n",
      "[13211 rows x 131 columns]\n"
     ]
    },
    {
     "name": "stderr",
     "output_type": "stream",
     "text": [
      "C:\\Users\\Network Administrato\\AppData\\Local\\Temp\\ipykernel_11640\\2166779766.py:2: DtypeWarning: Columns (0,1,14,15,16,17,18,19,20,21,22,23,24,25,26,27,28,29,30,31,32,33,34,35,36,37,38,39,40,41,42,43,44,45,46,47,48,49,50,51,52,53,54,55,56,57,58,59,60,61,62,63,64,65,66,67,68,69,70,71,72,73,74,75,76,77,78,79,80,81,82,83,84,85,86,87,88,89,90,91,92,93,94,95,96,97,98,99,100,101,102,103,104,105,107,108,117,119,120,123,124,125,126,127,128,129,130) have mixed types. Specify dtype option on import or set low_memory=False.\n",
      "  merged_data = pd.read_csv(\"merged_data.csv\")\n"
     ]
    }
   ],
   "source": [
    " \n",
    "# Read the merged data from the CSV file into a DataFrame\n",
    "merged_data = pd.read_csv(\"merged_data.csv\")\n",
    "\n",
    "# Display the DataFrame\n",
    "print(merged_data)\n"
   ]
  },
  {
   "cell_type": "code",
   "execution_count": 23,
   "id": "3bdd2fb3-1aed-4e8d-939b-872ec1288770",
   "metadata": {},
   "outputs": [
    {
     "name": "stdout",
     "output_type": "stream",
     "text": [
      "       nwsli          site_name  longitude  latitude        date    time  \\\n",
      "0      OSGK1         OSAGE CITY   -95.8333   38.6333  20240407.0   940.0   \n",
      "1      WHLM4  Whitmore Lake 1NW   -83.7831   42.4356  20240407.0  1300.0   \n",
      "2      SMLI2        HAMLETSBURG   -88.4333   37.1667  20240407.0  1100.0   \n",
      "3      CWYN1      CALLAWAY 8WSW  -100.0750   41.2522  20240407.0  1200.0   \n",
      "4      RDWP1            RIDGWAY   -78.7500   41.4167  20240407.0  1100.0   \n",
      "...      ...                ...        ...       ...         ...     ...   \n",
      "13206    NaN                NaN        NaN       NaN         NaN     NaN   \n",
      "13207    NaN                NaN        NaN       NaN         NaN     NaN   \n",
      "13208    NaN                NaN        NaN       NaN         NaN     NaN   \n",
      "13209    NaN                NaN        NaN       NaN         NaN     NaN   \n",
      "13210    NaN                NaN        NaN       NaN         NaN     NaN   \n",
      "\n",
      "       high_f  low_f  prec_in  snow_in  ...  price  choice  DeliveredDateTime  \\\n",
      "0        75.0   45.0     0.00      0.0  ...    NaN     NaN                NaN   \n",
      "1        58.0   27.0     0.00    -99.0  ...    NaN     NaN                NaN   \n",
      "2        63.0   32.0     0.00    -99.0  ...    NaN     NaN                NaN   \n",
      "3        66.0   41.0     0.46      0.0  ...    NaN     NaN                NaN   \n",
      "4        52.0   26.0     0.00      0.0  ...    NaN     NaN                NaN   \n",
      "...       ...    ...      ...      ...  ...    ...     ...                ...   \n",
      "13206     NaN    NaN      NaN      NaN  ...    NaN     NaN                NaN   \n",
      "13207     NaN    NaN      NaN      NaN  ...    NaN     NaN                NaN   \n",
      "13208     NaN    NaN      NaN      NaN  ...    NaN     NaN                NaN   \n",
      "13209     NaN    NaN      NaN      NaN  ...    NaN     NaN                NaN   \n",
      "13210     NaN    NaN      NaN      NaN  ...    NaN     NaN                NaN   \n",
      "\n",
      "       ModelName col-12 col-12 href col-12 2 col-12 href 2  \\\n",
      "0            NaN    NaN         NaN      NaN           NaN   \n",
      "1            NaN    NaN         NaN      NaN           NaN   \n",
      "2            NaN    NaN         NaN      NaN           NaN   \n",
      "3            NaN    NaN         NaN      NaN           NaN   \n",
      "4            NaN    NaN         NaN      NaN           NaN   \n",
      "...          ...    ...         ...      ...           ...   \n",
      "13206        NaN    NaN         NaN      NaN           NaN   \n",
      "13207        NaN    NaN         NaN      NaN           NaN   \n",
      "13208        NaN    NaN         NaN      NaN           NaN   \n",
      "13209        NaN    NaN         NaN      NaN           NaN   \n",
      "13210        NaN    NaN         NaN      NaN           NaN   \n",
      "\n",
      "      https://www.truepeoplesearch.com/find/person/pl640ulnlnnl8lu4862l  \\\n",
      "0                                                    NaN                  \n",
      "1                                                    NaN                  \n",
      "2                                                    NaN                  \n",
      "3                                                    NaN                  \n",
      "4                                                    NaN                  \n",
      "...                                                  ...                  \n",
      "13206                                                NaN                  \n",
      "13207                                                NaN                  \n",
      "13208                                                NaN                  \n",
      "13209                                                NaN                  \n",
      "13210                                                NaN                  \n",
      "\n",
      "                https://www.truepeoplesearch.com/privacy  \n",
      "0                                                    NaN  \n",
      "1                                                    NaN  \n",
      "2                                                    NaN  \n",
      "3                                                    NaN  \n",
      "4                                                    NaN  \n",
      "...                                                  ...  \n",
      "13206            https://www.truepeoplesearch.com/find/v  \n",
      "13207            https://www.truepeoplesearch.com/find/w  \n",
      "13208            https://www.truepeoplesearch.com/find/y  \n",
      "13209  https://www.truepeoplesearch.com/find/trending...  \n",
      "13210  https://en.wikipedia.org/wiki/Fair_Credit_Repo...  \n",
      "\n",
      "[13211 rows x 128 columns]\n"
     ]
    },
    {
     "name": "stderr",
     "output_type": "stream",
     "text": [
      "C:\\Users\\Network Administrato\\AppData\\Local\\Temp\\ipykernel_11640\\3747302870.py:1: DtypeWarning: Columns (0,1,14,15,16,17,18,19,20,21,22,23,24,25,26,27,28,29,30,31,32,33,34,35,36,37,38,39,40,41,42,43,44,45,46,47,48,49,50,51,52,53,54,55,56,57,58,59,60,61,62,63,64,65,66,67,68,69,70,71,72,73,74,75,76,77,78,79,80,81,82,83,84,85,86,87,88,89,90,91,92,93,94,95,96,97,98,99,100,101,102,103,104,105,107,108,117,119,120,123,124,125,126,127,128,129,130) have mixed types. Specify dtype option on import or set low_memory=False.\n",
      "  merged_data = pd.read_csv(\"merged_data.csv\")\n"
     ]
    }
   ],
   "source": [
    "merged_data = pd.read_csv(\"merged_data.csv\")\n",
    "\n",
    "# Filter out columns with all missing values (NaNs)\n",
    "merged_data_filtered = merged_data.dropna(axis=1, how='all')\n",
    "\n",
    "# Display the DataFrame with filtered columns\n",
    "print(merged_data_filtered)"
   ]
  },
  {
   "cell_type": "code",
   "execution_count": 27,
   "id": "759f795d-44e0-4752-a6bd-02a2c2c6ce8e",
   "metadata": {},
   "outputs": [
    {
     "name": "stderr",
     "output_type": "stream",
     "text": [
      "C:\\Users\\Network Administrato\\AppData\\Local\\Temp\\ipykernel_11640\\1616899506.py:9: DtypeWarning: Columns (0,1,14,15,16,17,18,19,20,21,22,23,24,25,26,27,28,29,30,31,32,33,34,35,36,37,38,39,40,41,42,43,44,45,46,47,48,49,50,51,52,53,54,55,56,57,58,59,60,61,62,63,64,65,66,67,68,69,70,71,72,73,74,75,76,77,78,79,80,81,82,83,84,85,86,87,88,89,90,91,92,93,94,95,96,97,98,99,100,101,102,103,104,105,107,108,117,119,120,123,124,125,126,127,128,129,130) have mixed types. Specify dtype option on import or set low_memory=False.\n",
      "  merged_data = pd.read_csv(\"merged_data.csv\", dtype=dtype_mapping)\n"
     ]
    }
   ],
   "source": [
    "# Specify data types for columns explicitly\n",
    "dtype_mapping = {\n",
    "    'Column1': str,\n",
    "    'Column2': int,\n",
    "    # Specify data types for other columns as needed\n",
    "}\n",
    "\n",
    "# Read the merged data from the CSV file into a DataFrame, specifying data types\n",
    "merged_data = pd.read_csv(\"merged_data.csv\", dtype=dtype_mapping)\n"
   ]
  }
 ],
 "metadata": {
  "kernelspec": {
   "display_name": "Python 3 (ipykernel)",
   "language": "python",
   "name": "python3"
  },
  "language_info": {
   "codemirror_mode": {
    "name": "ipython",
    "version": 3
   },
   "file_extension": ".py",
   "mimetype": "text/x-python",
   "name": "python",
   "nbconvert_exporter": "python",
   "pygments_lexer": "ipython3",
   "version": "3.11.7"
  }
 },
 "nbformat": 4,
 "nbformat_minor": 5
}
